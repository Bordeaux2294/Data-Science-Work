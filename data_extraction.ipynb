{
  "nbformat": 4,
  "nbformat_minor": 0,
  "metadata": {
    "colab": {
      "provenance": []
    },
    "kernelspec": {
      "name": "python3",
      "display_name": "Python 3"
    },
    "language_info": {
      "name": "python"
    }
  },
  "cells": [
    {
      "cell_type": "markdown",
      "source": [
        "# Comp3162 Lab 3\n",
        "##Trishanna Ford - 620147893\n"
      ],
      "metadata": {
        "id": "l5767mNkaQrw"
      }
    },
    {
      "cell_type": "markdown",
      "source": [
        "###Section 1"
      ],
      "metadata": {
        "id": "Z6uUnhghq1EL"
      }
    },
    {
      "cell_type": "code",
      "execution_count": 37,
      "metadata": {
        "colab": {
          "base_uri": "https://localhost:8080/"
        },
        "id": "-j1sC2lpQtsa",
        "outputId": "46d0525d-47f9-47a5-99a6-1a239ec9924e"
      },
      "outputs": [
        {
          "output_type": "stream",
          "name": "stdout",
          "text": [
            "Requirement already satisfied: mysql.connector in /usr/local/lib/python3.10/dist-packages (2.2.9)\n"
          ]
        }
      ],
      "source": [
        "!pip install mysql.connector"
      ]
    },
    {
      "cell_type": "code",
      "source": [
        "import mysql.connector\n",
        "import pandas as pd\n",
        "import requests\n",
        "from bs4 import BeautifulSoup"
      ],
      "metadata": {
        "id": "IAg9qFK7aidF"
      },
      "execution_count": 38,
      "outputs": []
    },
    {
      "cell_type": "code",
      "source": [
        "connection = mysql.connector.connect(\n",
        "    host='database-comp3162.cqb8o27401uq.us-east-2.rds.amazonaws.com',\n",
        "    user='comp3162user',\n",
        "    password='Password876',\n",
        "    port=3306,\n",
        "    database='comp3162'\n",
        ")"
      ],
      "metadata": {
        "id": "8g15Z11CaoIQ"
      },
      "execution_count": 39,
      "outputs": []
    },
    {
      "cell_type": "code",
      "source": [
        "cursor = connection.cursor()\n",
        "cursor.execute(\"Select * from Patients\")\n",
        "rows = cursor.fetchall()\n",
        "rows = [row for row in rows if None not in row]\n",
        "columns = [col[0] for col in cursor.description]\n",
        "df = pd.DataFrame(rows, columns=columns)\n",
        "df.to_csv('task1-620147893.csv', index=False)\n",
        "cursor.close()\n",
        "connection.close()"
      ],
      "metadata": {
        "id": "VQzDpb_SnAvZ"
      },
      "execution_count": 40,
      "outputs": []
    },
    {
      "cell_type": "markdown",
      "source": [
        "###Section 2"
      ],
      "metadata": {
        "id": "VDNA0SPlq6Vw"
      }
    },
    {
      "cell_type": "code",
      "source": [
        "url = \"http://universities.hipolabs.com/search?country=India\"\n",
        "response = requests.get(url)\n",
        "\n",
        "if response.status_code==200:\n",
        "  json_data = response.json()\n",
        "  rows = []\n",
        "  for item in json_data:\n",
        "    name = item.get(\"name\")\n",
        "    state_province = item.get(\"state_province\")\n",
        "    rows.append({\"Name\": name, \"State/Province\": state_province})\n",
        "    df2 = pd.concat([pd.DataFrame([row]) for row in rows], ignore_index=True)\n",
        "df2.to_csv('task2-620147893.csv', index=False)"
      ],
      "metadata": {
        "id": "dg8_iBywq8H1"
      },
      "execution_count": 41,
      "outputs": []
    },
    {
      "cell_type": "markdown",
      "source": [
        "###Section 3"
      ],
      "metadata": {
        "id": "gghbtkW5ww6K"
      }
    },
    {
      "cell_type": "code",
      "source": [
        "all_data = []\n",
        "def scrape_page(url):\n",
        "    response = requests.get(url)\n",
        "    soup = BeautifulSoup(response.content, 'html.parser')\n",
        "    articles = soup.find_all('article', class_='product_pod')\n",
        "    for container in articles:\n",
        "        title = container.find('h3').text.strip()\n",
        "        star_rating_mapping = {\n",
        "            'One': 1,\n",
        "            'Two': 2,\n",
        "            'Three': 3,\n",
        "            'Four': 4,\n",
        "            'Five': 5\n",
        "        }\n",
        "        star_rating_class = container.find('p', class_='star-rating')\n",
        "        if star_rating_class:\n",
        "            star_rating_class = star_rating_class['class'][1]\n",
        "            star_rating = star_rating_class.capitalize()\n",
        "            star_rating_numeric = star_rating_mapping.get(star_rating)\n",
        "        else:\n",
        "            star_rating_numeric = None\n",
        "        price = container.find('p', class_='price_color').text.strip()\n",
        "        all_data.append((title, star_rating_numeric, price))\n",
        "    return all_data\n",
        "\n",
        "\n",
        "for page_num in range(1, 3):\n",
        "    page_url = f\"https://books.toscrape.com/catalogue/category/books/mystery_3/page-{page_num}.html\"  # Update the URL structure accordingly\n",
        "    data = scrape_page(page_url)\n",
        "    all_data.extend(data)\n",
        "\n",
        "df3 = pd.DataFrame(all_data,columns=['Title','Star Rating','Price'])\n",
        "df3.to_csv('task3-620147893.csv', index=False)"
      ],
      "metadata": {
        "id": "tLstxYo8w4IE"
      },
      "execution_count": 43,
      "outputs": []
    }
  ]
}